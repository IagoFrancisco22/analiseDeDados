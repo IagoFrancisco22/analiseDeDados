{
 "cells": [
  {
   "cell_type": "code",
   "execution_count": 4,
   "metadata": {},
   "outputs": [],
   "source": [
    "import pandas as pd"
   ]
  },
  {
   "cell_type": "code",
   "execution_count": 9,
   "metadata": {},
   "outputs": [
    {
     "data": {
      "text/html": [
       "<div>\n",
       "<style scoped>\n",
       "    .dataframe tbody tr th:only-of-type {\n",
       "        vertical-align: middle;\n",
       "    }\n",
       "\n",
       "    .dataframe tbody tr th {\n",
       "        vertical-align: top;\n",
       "    }\n",
       "\n",
       "    .dataframe thead th {\n",
       "        text-align: right;\n",
       "    }\n",
       "</style>\n",
       "<table border=\"1\" class=\"dataframe\">\n",
       "  <thead>\n",
       "    <tr style=\"text-align: right;\">\n",
       "      <th></th>\n",
       "      <th>Ano</th>\n",
       "      <th>Sexo</th>\n",
       "      <th>Clientela</th>\n",
       "      <th>Quantidade Benefícios Cessados</th>\n",
       "      <th>Tempo de Duração</th>\n",
       "    </tr>\n",
       "  </thead>\n",
       "  <tbody>\n",
       "    <tr>\n",
       "      <th>0</th>\n",
       "      <td>1994</td>\n",
       "      <td>Masculino</td>\n",
       "      <td>Urbana</td>\n",
       "      <td>87144</td>\n",
       "      <td>Menos de 1 ano</td>\n",
       "    </tr>\n",
       "    <tr>\n",
       "      <th>1</th>\n",
       "      <td>1994</td>\n",
       "      <td>Feminino</td>\n",
       "      <td>Urbana</td>\n",
       "      <td>58351</td>\n",
       "      <td>Menos de 1 ano</td>\n",
       "    </tr>\n",
       "    <tr>\n",
       "      <th>2</th>\n",
       "      <td>1994</td>\n",
       "      <td>Ignorado</td>\n",
       "      <td>Urbana</td>\n",
       "      <td>1923</td>\n",
       "      <td>Menos de 1 ano</td>\n",
       "    </tr>\n",
       "    <tr>\n",
       "      <th>3</th>\n",
       "      <td>1994</td>\n",
       "      <td>Masculino</td>\n",
       "      <td>Rural</td>\n",
       "      <td>13613</td>\n",
       "      <td>Menos de 1 ano</td>\n",
       "    </tr>\n",
       "    <tr>\n",
       "      <th>4</th>\n",
       "      <td>1994</td>\n",
       "      <td>Feminino</td>\n",
       "      <td>Rural</td>\n",
       "      <td>7622</td>\n",
       "      <td>Menos de 1 ano</td>\n",
       "    </tr>\n",
       "  </tbody>\n",
       "</table>\n",
       "</div>"
      ],
      "text/plain": [
       "    Ano       Sexo Clientela Quantidade Benefícios Cessados Tempo de Duração\n",
       "0  1994  Masculino    Urbana                          87144   Menos de 1 ano\n",
       "1  1994   Feminino    Urbana                          58351   Menos de 1 ano\n",
       "2  1994   Ignorado    Urbana                           1923   Menos de 1 ano\n",
       "3  1994  Masculino     Rural                          13613   Menos de 1 ano\n",
       "4  1994   Feminino     Rural                           7622   Menos de 1 ano"
      ]
     },
     "execution_count": 9,
     "metadata": {},
     "output_type": "execute_result"
    }
   ],
   "source": [
    "#Quantidade de benefícios cessados por faixas de duração do benefício, \n",
    "#sexo do beneficiário, clientela e ano da data de cessação do benefício.\n",
    "#Não inclui pensões alimentícias nem benefícios de prestação única. \n",
    "#Considera desdobramentos de pensões por morte e apenas o motivo da cessação 'morte'.\n",
    "\n",
    "\n",
    "df = pd.read_csv('beneficioMortePorDuracao.csv',encoding ='cp1252')\n",
    "df.head()"
   ]
  },
  {
   "cell_type": "code",
   "execution_count": 10,
   "metadata": {},
   "outputs": [
    {
     "data": {
      "text/plain": [
       "Ano                               7310\n",
       "Sexo                              7310\n",
       "Clientela                         7310\n",
       "Quantidade Benefícios Cessados    7310\n",
       "Tempo de Duração                  7309\n",
       "dtype: int64"
      ]
     },
     "execution_count": 10,
     "metadata": {},
     "output_type": "execute_result"
    }
   ],
   "source": [
    "df.count()"
   ]
  },
  {
   "cell_type": "code",
   "execution_count": 11,
   "metadata": {},
   "outputs": [
    {
     "data": {
      "text/plain": [
       "Ignorado     2781\n",
       "Masculino    2265\n",
       "Feminino     2263\n",
       "-               1\n",
       "Name: Sexo, dtype: int64"
      ]
     },
     "execution_count": 11,
     "metadata": {},
     "output_type": "execute_result"
    }
   ],
   "source": [
    "df['Sexo'].value_counts()"
   ]
  },
  {
   "cell_type": "code",
   "execution_count": 12,
   "metadata": {
    "scrolled": true
   },
   "outputs": [
    {
     "data": {
      "text/plain": [
       "Ano                               True\n",
       "Sexo                              True\n",
       "Clientela                         True\n",
       "Quantidade Benefícios Cessados    True\n",
       "Tempo de Duração                  True\n",
       "dtype: bool"
      ]
     },
     "execution_count": 12,
     "metadata": {},
     "output_type": "execute_result"
    }
   ],
   "source": [
    "df.all()"
   ]
  },
  {
   "cell_type": "code",
   "execution_count": 14,
   "metadata": {},
   "outputs": [
    {
     "data": {
      "text/plain": [
       "2016    477\n",
       "2015    476\n",
       "2013    474\n",
       "2011    471\n",
       "2012    466\n",
       "2014    466\n",
       "2008    466\n",
       "2010    462\n",
       "2009    461\n",
       "2007    391\n",
       "2006    385\n",
       "2005    378\n",
       "2004    376\n",
       "1995    156\n",
       "1997    156\n",
       "2001    156\n",
       "2003    156\n",
       "1996    156\n",
       "1998    156\n",
       "1999    156\n",
       "2002    156\n",
       "2000    156\n",
       "1994    156\n",
       "-         1\n",
       "Name: Ano, dtype: int64"
      ]
     },
     "execution_count": 14,
     "metadata": {},
     "output_type": "execute_result"
    }
   ],
   "source": [
    "df['Ano'].value_counts()"
   ]
  },
  {
   "cell_type": "code",
   "execution_count": 16,
   "metadata": {},
   "outputs": [
    {
     "data": {
      "text/plain": [
       "<matplotlib.axes._subplots.AxesSubplot at 0x3ecb8d0>"
      ]
     },
     "execution_count": 16,
     "metadata": {},
     "output_type": "execute_result"
    },
    {
     "data": {
      "image/png": "[encoded data removed]",
      "text/plain": [
       "<Figure size 432x288 with 1 Axes>"
      ]
     },
     "metadata": {
      "needs_background": "light"
     },
     "output_type": "display_data"
    }
   ],
   "source": [
    "#mostrando os dados em um grafico\n",
    "#precisamos informar que queremos visualizar o grafico dentro do proprio notebook\n",
    "%matplotlib inline\n",
    "\n",
    "\n",
    "# pegando os anos e mostrando em um grafico\n",
    "df['Ano'].value_counts().plot.bar()"
   ]
  },
  {
   "cell_type": "code",
   "execution_count": 19,
   "metadata": {},
   "outputs": [
    {
     "data": {
      "text/plain": [
       "<matplotlib.axes._subplots.AxesSubplot at 0x8c43668>"
      ]
     },
     "execution_count": 19,
     "metadata": {},
     "output_type": "execute_result"
    },
    {
     "data": {
      "image/png": "[encoded data removed]",
      "text/plain": [
       "<Figure size 432x288 with 1 Axes>"
      ]
     },
     "metadata": {
      "needs_background": "light"
     },
     "output_type": "display_data"
    }
   ],
   "source": [
    "%matplotlib inline\n",
    "df['Sexo'].value_counts().plot.bar()"
   ]
  },
  {
   "cell_type": "code",
   "execution_count": null,
   "metadata": {},
   "outputs": [],
   "source": []
  }
 ],
 "metadata": {
  "kernelspec": {
   "display_name": "Python 3",
   "language": "python",
   "name": "python3"
  },
  "language_info": {
   "codemirror_mode": {
    "name": "ipython",
    "version": 3
   },
   "file_extension": ".py",
   "mimetype": "text/x-python",
   "name": "python",
   "nbconvert_exporter": "python",
   "pygments_lexer": "ipython3",
   "version": "3.7.0"
  }
 },
 "nbformat": 4,
 "nbformat_minor": 2
}
